{
 "cells": [
  {
   "cell_type": "code",
   "execution_count": 1,
   "metadata": {
    "collapsed": true
   },
   "outputs": [],
   "source": [
    "from numpy.random import choice\n",
    "from pgmpy.readwrite import BIFReader\n",
    "from queue import Queue\n",
    "from functools import reduce"
   ]
  },
  {
   "cell_type": "code",
   "execution_count": 2,
   "outputs": [],
   "source": [
    "data_path = \"data/cancer.bif\"\n",
    "reader = BIFReader(data_path)"
   ],
   "metadata": {
    "collapsed": false,
    "pycharm": {
     "name": "#%%\n"
    }
   }
  },
  {
   "cell_type": "code",
   "execution_count": 3,
   "outputs": [],
   "source": [
    "model = reader.get_model()\n",
    "variables = reader.get_variables()\n",
    "edges = reader.get_edges()\n",
    "states = reader.get_states()"
   ],
   "metadata": {
    "collapsed": false,
    "pycharm": {
     "name": "#%%\n"
    }
   }
  },
  {
   "cell_type": "code",
   "execution_count": 4,
   "outputs": [
    {
     "name": "stdout",
     "output_type": "stream",
     "text": [
      "Parents:\n",
      "{'Pollution': [], 'Smoker': [], 'Cancer': ['Pollution', 'Smoker'], 'Xray': ['Cancer'], 'Dyspnoea': ['Cancer']}\n",
      "Children:\n",
      "{'Pollution': ['Cancer'], 'Smoker': ['Cancer'], 'Cancer': ['Xray', 'Dyspnoea'], 'Xray': [], 'Dyspnoea': []}\n"
     ]
    }
   ],
   "source": [
    "dict_parents, dict_children = {}, {}\n",
    "\n",
    "for variable in variables:\n",
    "    dict_parents[variable] = []\n",
    "    dict_children[variable] = []\n",
    "\n",
    "for [parent, child] in edges:\n",
    "    dict_parents[child].append(parent)\n",
    "    dict_children[parent].append(child)\n",
    "\n",
    "\n",
    "print(\"Parents:\")\n",
    "print(dict_parents)\n",
    "print(\"Children:\")\n",
    "print(dict_children)"
   ],
   "metadata": {
    "collapsed": false,
    "pycharm": {
     "name": "#%%\n"
    }
   }
  },
  {
   "cell_type": "code",
   "execution_count": 5,
   "outputs": [
    {
     "name": "stdout",
     "output_type": "stream",
     "text": [
      "+-----------------+-----+\n",
      "| Pollution(low)  | 0.9 |\n",
      "+-----------------+-----+\n",
      "| Pollution(high) | 0.1 |\n",
      "+-----------------+-----+\n",
      "+---------------+-----+\n",
      "| Smoker(True)  | 0.3 |\n",
      "+---------------+-----+\n",
      "| Smoker(False) | 0.7 |\n",
      "+---------------+-----+\n",
      "+---------------+----------------+----------------+-----------------+-----------------+\n",
      "| Pollution     | Pollution(low) | Pollution(low) | Pollution(high) | Pollution(high) |\n",
      "+---------------+----------------+----------------+-----------------+-----------------+\n",
      "| Smoker        | Smoker(True)   | Smoker(False)  | Smoker(True)    | Smoker(False)   |\n",
      "+---------------+----------------+----------------+-----------------+-----------------+\n",
      "| Cancer(True)  | 0.03           | 0.001          | 0.05            | 0.02            |\n",
      "+---------------+----------------+----------------+-----------------+-----------------+\n",
      "| Cancer(False) | 0.97           | 0.999          | 0.95            | 0.98            |\n",
      "+---------------+----------------+----------------+-----------------+-----------------+\n",
      "+----------------+--------------+---------------+\n",
      "| Cancer         | Cancer(True) | Cancer(False) |\n",
      "+----------------+--------------+---------------+\n",
      "| Xray(positive) | 0.9          | 0.2           |\n",
      "+----------------+--------------+---------------+\n",
      "| Xray(negative) | 0.1          | 0.8           |\n",
      "+----------------+--------------+---------------+\n",
      "+-----------------+--------------+---------------+\n",
      "| Cancer          | Cancer(True) | Cancer(False) |\n",
      "+-----------------+--------------+---------------+\n",
      "| Dyspnoea(True)  | 0.65         | 0.3           |\n",
      "+-----------------+--------------+---------------+\n",
      "| Dyspnoea(False) | 0.35         | 0.7           |\n",
      "+-----------------+--------------+---------------+\n"
     ]
    }
   ],
   "source": [
    "for var in variables:\n",
    "    print(model.get_cpds(var))"
   ],
   "metadata": {
    "collapsed": false,
    "pycharm": {
     "name": "#%%\n"
    }
   }
  },
  {
   "cell_type": "code",
   "execution_count": 6,
   "outputs": [],
   "source": [
    "def generate_combinations(queries, cur_list):\n",
    "    if len(cur_list) == 0:\n",
    "        return queries\n",
    "    value, rest_list = cur_list[0], cur_list[1:]\n",
    "    new_queries = []\n",
    "    for state in states[value]:\n",
    "        for query in queries:\n",
    "            cur_query = query.copy()\n",
    "            cur_query[value] = state\n",
    "            new_queries.append(cur_query)\n",
    "\n",
    "    return generate_combinations(new_queries, rest_list)\n",
    "\n",
    "def get_dict(cur_dict, node):\n",
    "    keys = [node] + dict_parents[node]\n",
    "    res = dict((k, cur_dict[k]) for k in keys)\n",
    "    return res\n",
    "\n",
    "def get_prob(cur_dict):\n",
    "    q = Queue()\n",
    "    visited_dict = {}\n",
    "    for root_node in model.get_roots():\n",
    "        q.put(root_node)\n",
    "        visited_dict[root_node] = model.get_cpds(root_node).to_factor().get_value(**get_dict(cur_dict, root_node))\n",
    "    while not q.empty():\n",
    "        cur_node = q.get()\n",
    "        for child in dict_children[cur_node]:\n",
    "            if child not in visited_dict:\n",
    "                visited_dict[child] = model.get_cpds(child).to_factor().get_value(**get_dict(cur_dict, child))\n",
    "                q.put(child)\n",
    "    return reduce(lambda x, y: x*y, visited_dict.values())"
   ],
   "metadata": {
    "collapsed": false,
    "pycharm": {
     "name": "#%%\n"
    }
   }
  },
  {
   "cell_type": "code",
   "execution_count": 7,
   "outputs": [
    {
     "data": {
      "text/plain": "0.35246925"
     },
     "execution_count": 7,
     "metadata": {},
     "output_type": "execute_result"
    }
   ],
   "source": [
    "example_dict = {'Pollution': 'low',\n",
    "                'Smoker': 'False',\n",
    "                'Xray': 'negative',\n",
    "                'Dyspnoea': 'False'\n",
    "                }\n",
    "\n",
    "\n",
    "def query_1(dict_data):\n",
    "    all_values = [dict_data]\n",
    "    missing_variables = list(set(variables) - set(dict_data.keys()))\n",
    "    all_values = generate_combinations(all_values, missing_variables)\n",
    "    full_prob = 0\n",
    "    for cur_values in all_values:\n",
    "        cur_prob = get_prob(cur_values)\n",
    "        full_prob += cur_prob\n",
    "    return full_prob\n",
    "\n",
    "query_1(example_dict)"
   ],
   "metadata": {
    "collapsed": false,
    "pycharm": {
     "name": "#%%\n"
    }
   }
  },
  {
   "cell_type": "code",
   "execution_count": 8,
   "outputs": [
    {
     "data": {
      "text/plain": "0.3526"
     },
     "execution_count": 8,
     "metadata": {},
     "output_type": "execute_result"
    }
   ],
   "source": [
    "def query_2(dict_data, samples=10000):\n",
    "    all_values = [{}]\n",
    "    all_values = generate_combinations(all_values, variables)\n",
    "\n",
    "    query_values = [dict_data]\n",
    "    missing_variables = list(set(variables) - set(dict_data.keys()))\n",
    "    query_values = generate_combinations(query_values, missing_variables)\n",
    "\n",
    "    full_probs = []\n",
    "    dict_cnt = {}\n",
    "    for cur_values in all_values:\n",
    "        dict_cnt[frozenset(cur_values.items())] = 0\n",
    "        cur_prob = get_prob(cur_values)\n",
    "        full_probs.append(cur_prob)\n",
    "\n",
    "    for _ in range(samples):\n",
    "        dict_cnt[frozenset(choice(all_values, p=full_probs).items())] += 1\n",
    "\n",
    "    cnt_sum = 0\n",
    "    for key in query_values:\n",
    "        cnt_sum += dict_cnt[frozenset(key.items())]\n",
    "\n",
    "    return cnt_sum/samples\n",
    "\n",
    "query_2(example_dict)"
   ],
   "metadata": {
    "collapsed": false,
    "pycharm": {
     "name": "#%%\n"
    }
   }
  },
  {
   "cell_type": "code",
   "execution_count": 9,
   "outputs": [],
   "source": [
    "def generate_plot_data(cur_dict):\n",
    "    nums = [pow(2, i) for i in range(5, 20)]\n",
    "    answers_1, answers_2 = [], []\n",
    "    for cur_num in nums:\n",
    "        answers_1.append(query_1(cur_dict))\n",
    "        answers_2.append(query_2(cur_dict, samples=cur_num))\n",
    "\n",
    "    return nums, answers_1, answers_2"
   ],
   "metadata": {
    "collapsed": false,
    "pycharm": {
     "name": "#%%\n"
    }
   }
  },
  {
   "cell_type": "code",
   "execution_count": 10,
   "outputs": [
    {
     "data": {
      "text/plain": "<Figure size 432x288 with 1 Axes>",
      "image/png": "[encoded data removed]"
     },
     "metadata": {
      "needs_background": "light"
     },
     "output_type": "display_data"
    }
   ],
   "source": [
    "from matplotlib import pyplot as plt\n",
    "\n",
    "def draw_plot(x, y1, y2):\n",
    "    fig, ax = plt.subplots()\n",
    "    plt.plot(x, y1, label='Algo 1')\n",
    "    plt.plot(x, y2, label='Algo 2')\n",
    "    ax.set_xlabel(\"Samples\")\n",
    "    ax.set_ylabel(\"Prob\")\n",
    "    plt.legend()\n",
    "\n",
    "x, y1, y2 = generate_plot_data(example_dict)\n",
    "draw_plot(x, y1, y2)"
   ],
   "metadata": {
    "collapsed": false,
    "pycharm": {
     "name": "#%%\n"
    }
   }
  },
  {
   "cell_type": "code",
   "execution_count": 11,
   "outputs": [
    {
     "data": {
      "text/plain": "<Figure size 432x288 with 1 Axes>",
      "image/png": "[encoded data removed]"
     },
     "metadata": {
      "needs_background": "light"
     },
     "output_type": "display_data"
    }
   ],
   "source": [
    "example_dict2 = {'Pollution': 'high',\n",
    "                 'Smoker': 'True',\n",
    "                 'Cancer': 'True'\n",
    "                }\n",
    "\n",
    "x, y1, y2 = generate_plot_data(example_dict2)\n",
    "draw_plot(x, y1, y2)"
   ],
   "metadata": {
    "collapsed": false,
    "pycharm": {
     "name": "#%%\n"
    }
   }
  },
  {
   "cell_type": "code",
   "execution_count": 11,
   "outputs": [],
   "source": [],
   "metadata": {
    "collapsed": false,
    "pycharm": {
     "name": "#%%\n"
    }
   }
  }
 ],
 "metadata": {
  "kernelspec": {
   "display_name": "Python 3",
   "language": "python",
   "name": "python3"
  },
  "language_info": {
   "codemirror_mode": {
    "name": "ipython",
    "version": 2
   },
   "file_extension": ".py",
   "mimetype": "text/x-python",
   "name": "python",
   "nbconvert_exporter": "python",
   "pygments_lexer": "ipython2",
   "version": "2.7.6"
  }
 },
 "nbformat": 4,
 "nbformat_minor": 0
}